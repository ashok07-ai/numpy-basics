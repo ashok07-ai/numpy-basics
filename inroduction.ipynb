{
 "cells": [
  {
   "cell_type": "code",
   "execution_count": 1,
   "metadata": {},
   "outputs": [],
   "source": [
    "# Basics of Numpy\n",
    "# Numpy library contains multidimensional array and matrix data structures.\n",
    "# Numpy provides ndarray, a homogeneous n-dimensional array object.\n",
    "# Numpy stands for \"Numerical Python\"\n",
    "# Advantages of Numpy Arrays\n",
    "    #. Allows several Mathematical Operations\n",
    "    #. Faster Operations\n",
    "    #. Shape Manipulation\n",
    "    #. Sorting\n",
    "    #. Statistical Operations\n",
    "# (import numpy as np) is used to import numpy"
   ]
  },
  {
   "cell_type": "code",
   "execution_count": 2,
   "metadata": {},
   "outputs": [],
   "source": [
    "# What is the differnce between Python List and Numpy Array\n",
    "# Numpy gives you an enormous range of fast and efficient ways of creating arrays and manipulating numerical data inside them.\n",
    "# While Python List can contain different data types within single list, all of the array in the numpy array should be homogeneous."
   ]
  },
  {
   "cell_type": "code",
   "execution_count": 3,
   "metadata": {},
   "outputs": [],
   "source": [
    "# Why to use Numpy\n",
    "# Numpy arrays are faster than Python Lists.\n",
    "# An array consumes less memory and easy to use.\n",
    "# Numpy uses less memory to store data. \n",
    "# This allows the code to be optimized"
   ]
  },
  {
   "cell_type": "code",
   "execution_count": 4,
   "metadata": {},
   "outputs": [],
   "source": [
    "# Difference of execution time between Python List and Numpy Array"
   ]
  },
  {
   "cell_type": "code",
   "execution_count": 5,
   "metadata": {},
   "outputs": [],
   "source": [
    "import numpy as np\n",
    "from time import process_time"
   ]
  },
  {
   "cell_type": "code",
   "execution_count": 23,
   "metadata": {},
   "outputs": [
    {
     "name": "stdout",
     "output_type": "stream",
     "text": [
      "0.171875\n"
     ]
    }
   ],
   "source": [
    "# Execution time in Python List\n",
    "pyth_list = [i for i in range(1000000)]\n",
    "start_time = process_time()\n",
    "pyth_list = [i+5 for i in pyth_list]\n",
    "end_time = process_time()\n",
    "print(end_time - start_time)"
   ]
  },
  {
   "cell_type": "code",
   "execution_count": 20,
   "metadata": {},
   "outputs": [
    {
     "name": "stdout",
     "output_type": "stream",
     "text": [
      "0.0\n"
     ]
    }
   ],
   "source": [
    "# Execution time in Numpy array\n",
    "np_array = np.array([i for i in range(1000000)])\n",
    "start_time = process_time()\n",
    "np_array +=5\n",
    "end_time = process_time()\n",
    "print(end_time - start_time)"
   ]
  }
 ],
 "metadata": {
  "kernelspec": {
   "display_name": "Python 3",
   "language": "python",
   "name": "python3"
  },
  "language_info": {
   "codemirror_mode": {
    "name": "ipython",
    "version": 3
   },
   "file_extension": ".py",
   "mimetype": "text/x-python",
   "name": "python",
   "nbconvert_exporter": "python",
   "pygments_lexer": "ipython3",
   "version": "3.7.6"
  }
 },
 "nbformat": 4,
 "nbformat_minor": 4
}
